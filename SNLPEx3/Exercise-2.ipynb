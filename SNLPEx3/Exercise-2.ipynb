{
 "cells": [
  {
   "cell_type": "markdown",
   "metadata": {
    "deletable": false,
    "editable": false,
    "nbgrader": {
     "checksum": "847f292d0c7f2cb2f129b90e29ac03b1",
     "grade": false,
     "grade_id": "cell-markdown-task",
     "locked": true,
     "schema_version": 1,
     "solution": false
    }
   },
   "source": [
    "# Task 2 - Min Hashing\n",
    "(5 points)\n",
    "\n",
    "Finalize the implementation of the MinHashingProcessor class. It should offer the following functionalities:\n",
    "* The `MinHashingProcessor(int[][] permutations)` constructor takes a given set of permutations and performs its hashing based on them.\n",
    "* The `MinHashingProcessor(int numberOfHashes, int numberOfShingles, long seed)` constructor takes the parameters necessary for creating the given number of permutations (randomly). The usage of the seed is optional. However, it is suggested to use the seed for initializing random number generators if something like that is used in the implementation. This would make sure that tests are repeatable.\n",
    "* The `minHash(Set<Integer> s)` method takes a set of shingles (as they are created in the first task of this exercise series) and returns the hashes based on the min hashing algorithm as it is described in the lecture slides.\n",
    "\n",
    "#### Hints\n",
    "\n",
    "- In the test cases, all ids (the shingle ids as well as the positions of the shingles inside the permutations) start with 0. This might be different to some examples in the lecuter slides.\n",
    "\n",
    "#### Notes\n",
    "\n",
    "- Do not add additional external libraries.\n",
    "- Interface\n",
    "  - You can use _[TAB]_ for autocompletion and _[SHIFT]_+_[TAB]_ for code inspection.\n",
    "  - Use _Menu_ -> _View_ -> _Toggle Line Numbers_ for debugging.\n",
    "  - Check _Menu_ -> _Help_ -> _Keyboard Shortcuts_.\n",
    "- Finish\n",
    "  - Save your solution by clicking on the _disk icon_.\n",
    "  - Finally, choose _Menu_ -> _File_ -> _Close and Halt_.\n",
    "  - Do not forget to _Submit_ your solution in the _Assignments_ view."
   ]
  },
  {
   "cell_type": "code",
   "execution_count": 1,
   "metadata": {
    "deletable": false,
    "nbgrader": {
     "checksum": "a9d765d12cdaba72050d2686676fbede",
     "grade": false,
     "grade_id": "cell-code",
     "locked": false,
     "schema_version": 1,
     "solution": true
    }
   },
   "outputs": [
    {
     "name": "stdout",
     "output_type": "stream",
     "text": [
      "compiled\n"
     ]
    }
   ],
   "source": [
    "\n",
    "public static class MinHashingProcessor {\n",
    "    // YOUR CODE HERE\n",
    "    int[][] permutations = null;\n",
    "    int count = 0;\n",
    "\n",
    "    /**\n",
    "     * Constructor for creating the class with an already given set of permutations.\n",
    "     */\n",
    "    public MinHashingProcessor(int[][] permutations) {\n",
    "        // YOUR CODE HERE\n",
    "        this.permutations = permutations;\n",
    "    }\n",
    "\n",
    "    /**\n",
    "     * Constructor for creating the class with a generated set of permutations.\n",
    "     * \n",
    "     * @param numberOfHashes\n",
    "     *            number of hash functions (i.e., different permutations) that\n",
    "     *            should be generated\n",
    "     * @param numberOfShingles\n",
    "     *            number of different shingles the given documents can have\n",
    "     * @param seed\n",
    "     *            a seed if the generation is based on a random process\n",
    "     */\n",
    "    public MinHashingProcessor(int numberOfHashes, int numberOfShingles, long seed) {\n",
    "        // YOUR CODE HERE\n",
    "        \n",
    "        permutations = new int[numberOfHashes][numberOfShingles];\n",
    "        int[] arr= new int[numberOfShingles];\n",
    "        for (int j = 0; j < numberOfShingles; j++) {\n",
    "            arr[j]=j;\n",
    "        }\n",
    "      \n",
    "        int n = numberOfShingles; \n",
    "        \n",
    "       for(int k=0; k<numberOfHashes; k++){\n",
    "           int first = arr[0];\n",
    "          for (int i = 0; i <n; i++) { \n",
    "              \n",
    "              if(i == n-1)\n",
    "              {\n",
    "                 // int temp = arr[0];\n",
    "                  arr[n-1] = first;\n",
    "                  \n",
    "              }\n",
    "              else\n",
    "              {\n",
    "                  //int temp = arr[i+1];\n",
    "                  arr[i] = arr[i+1];\n",
    "              }\n",
    "            \n",
    "        } \n",
    "           \n",
    "           permutations[k] = arr.clone();\n",
    "           \n",
    "       }\n",
    "        \n",
    "    }\n",
    "\n",
    "    public int[] minHash(Set<Integer> s) {\n",
    "        int hash[] = null;\n",
    "        // YOUR CODE HERE\n",
    "        hash = new int[permutations.length];\n",
    "        \n",
    "        \n",
    "        for(int k=0; k<permutations.length; k++){\n",
    "           int[] p = permutations[k];\n",
    "            \n",
    "            for (int i=0; i<p.length; i++){\n",
    "                \n",
    "                if(s.contains(p[i])){\n",
    "//                     System.out.println(p[i]);\n",
    "//                     System.out.println(i);\n",
    "                    hash[k] = i;\n",
    "                    break;\n",
    "                }\n",
    "            }\n",
    "        }\n",
    "        \n",
    "        return hash;\n",
    "    }\n",
    "}\n",
    "\n",
    "// This line should make sure that compile errors are directly identified when executing this cell\n",
    "// (the line itself does not produce any meaningful result)\n",
    "new MinHashingProcessor(new int[][]{{0}});\n",
    "System.out.println(\"compiled\");"
   ]
  },
  {
   "cell_type": "markdown",
   "metadata": {
    "deletable": false,
    "editable": false,
    "nbgrader": {
     "checksum": "0fa4c9624fc37826c1bcb1ab405e39a1",
     "grade": false,
     "grade_id": "cell-markdown-evaluation",
     "locked": true,
     "schema_version": 1,
     "solution": false
    }
   },
   "source": [
    "# Evaluation\n",
    "\n",
    "- There are two different test scenarios. In the first cell, the class is initialize with a given set of permutations. In the second test scenario, the class has to create its own permutations.\n",
    "- Run the following cell to test your implementation.\n",
    "- You can ignore the cells afterwards."
   ]
  },
  {
   "cell_type": "code",
   "execution_count": 2,
   "metadata": {
    "deletable": false,
    "editable": false,
    "nbgrader": {
     "checksum": "bf2f692a29d8f3f6d2d2af1d78d5988d",
     "grade": true,
     "grade_id": "cell-autograde-visible",
     "locked": true,
     "points": 0,
     "schema_version": 1,
     "solution": false
    }
   },
   "outputs": [
    {
     "name": "stdout",
     "output_type": "stream",
     "text": [
      "Test successfully completed.\n",
      "Test successfully completed.\n",
      "Test successfully completed.\n",
      "Test successfully completed.\n"
     ]
    }
   ],
   "source": [
    "%maven org.junit.jupiter:junit-jupiter-api:5.3.1\n",
    "import org.junit.jupiter.api.Assertions;\n",
    "import org.opentest4j.AssertionFailedError;\n",
    "import java.util.stream.Collectors;\n",
    "import java.util.stream.IntStream;\n",
    "\n",
    "public class MinHashTester {\n",
    "    public static void checkMinHash(MinHashingProcessor processor, Set<Integer> documentShingles, int[] expectedHashes)\n",
    "            throws Exception {\n",
    "        try {\n",
    "            int[] hashes = processor.minHash(documentShingles);\n",
    "            Assertions.assertArrayEquals(expectedHashes, hashes,\n",
    "                    \"Your Min Hash solution of the shingles \"\n",
    "                            + Arrays.toString(documentShingles.toArray(new Integer[documentShingles.size()]))\n",
    "                            + \" created the hashes \" + Arrays.toString(hashes) + \" while \"\n",
    "                            + Arrays.toString(expectedHashes) + \" was expected.\");\n",
    "            System.out.println(\"Test successfully completed.\");\n",
    "        } catch (AssertionFailedError e) {\n",
    "            throw e;\n",
    "        } catch (Throwable e) {\n",
    "            System.err.println(\"Your solution caused an unexpected error:\");\n",
    "            throw e;\n",
    "        }\n",
    "    }\n",
    "\n",
    "    public static void checkMinHash(MinHashingProcessor processor, int[] documentShingles, int[] expectedHashes)\n",
    "            throws Exception {\n",
    "        // create a set for the shingles\n",
    "        checkMinHash(processor, \n",
    "                    (Set<Integer>) IntStream.of(documentShingles).mapToObj(Integer::new).collect(Collectors.toSet()),\n",
    "                    expectedHashes);\n",
    "    }\n",
    "}\n",
    "\n",
    "// The permutations used for these tests\n",
    "int[][] permutations = new int[][] {\n",
    "    { 5, 6, 7, 8, 9, 0, 1, 2, 3, 4 }, \n",
    "    { 9, 8, 7, 6, 5, 4, 3, 2, 1, 0 },\n",
    "    { 5, 3, 4, 9, 8, 1, 0, 7, 2, 6 } };\n",
    "MinHashingProcessor processor = new MinHashingProcessor(permutations);\n",
    "\n",
    "// The single test cases based on the given permutations\n",
    "MinHashTester.checkMinHash(processor, new int[] {0, 2, 4, 6, 8}, new int[] { 1, 1, 2 });\n",
    "MinHashTester.checkMinHash(processor, new int[] {6}, new int[] { 1, 3, 9 });\n",
    "MinHashTester.checkMinHash(processor, new int[] {5, 9}, new int[] { 0, 0, 0 });\n",
    "MinHashTester.checkMinHash(processor, new int[] {0, 1, 2, 3, 4, 5, 6, 7, 8, 9}, new int[] { 0, 0, 0 });"
   ]
  },
  {
   "cell_type": "code",
   "execution_count": 3,
   "metadata": {
    "deletable": false,
    "editable": false,
    "nbgrader": {
     "checksum": "a5f86f641a78d533ebb2a3a6e0e8d082",
     "grade": true,
     "grade_id": "cell-autograde-visible2",
     "locked": true,
     "points": 0,
     "schema_version": 1,
     "solution": false
    }
   },
   "outputs": [
    {
     "name": "stdout",
     "output_type": "stream",
     "text": [
      "Test successfully completed.\n",
      "Test successfully completed.\n",
      "Test successfully completed.\n",
      "Test successfully completed.\n",
      "Test successfully completed.\n",
      "Test successfully completed.\n"
     ]
    }
   ],
   "source": [
    "%maven org.junit.jupiter:junit-jupiter-api:5.3.1\n",
    "import org.junit.jupiter.api.Assertions;\n",
    "import org.opentest4j.AssertionFailedError;\n",
    "import java.util.stream.Collectors;\n",
    "import java.util.stream.IntStream;\n",
    "\n",
    "/**\n",
    " * Checks the MinHashingProcessor and its ability to generate permutation with simulating some\n",
    " * scenarios based on the given number of hashes, number of shingles and seed values.\n",
    " */\n",
    "public static void checkMinHash(int numberOfHashes, int numberOfShingles, long... seeds) throws Exception {\n",
    "    try {\n",
    "        Set<Integer> documentShingles = new HashSet<>();\n",
    "        int[] expectedHashes = new int[numberOfHashes];\n",
    "        for (int i = 0; i < seeds.length; ++i) {\n",
    "            // Initialize the processor\n",
    "            MinHashingProcessor processor = new MinHashingProcessor(numberOfHashes, numberOfShingles, seeds[i]);\n",
    "\n",
    "            // Simple test with an (unrealistic) document that has all shingles (we can\n",
    "            // expect it to have 0 for all permutations)\n",
    "            for (int j = 0; j < numberOfShingles; j++) {\n",
    "                documentShingles.add(j);\n",
    "            }\n",
    "            for (int j = 0; j < expectedHashes.length; j++) {\n",
    "                expectedHashes[j] = 0;\n",
    "            }\n",
    "            MinHashTester.checkMinHash(processor, documentShingles, expectedHashes);\n",
    "\n",
    "            // Simple test to make sure that the permutations are different\n",
    "            // (There is a chance of 25*(1/100)^25 = 25*10^(-50) that this test\n",
    "            // fails while the implementation is correct. However, if this it\n",
    "            // fails, the student should check his/her implementation as this\n",
    "            // chance is very low)\n",
    "            for (int j = 0; j < numberOfShingles; j++) {\n",
    "                // For each shingle create a document that contains only this shingle\n",
    "                documentShingles.clear();\n",
    "                documentShingles.add(j);\n",
    "                expectedHashes = processor.minHash(documentShingles);\n",
    "                // Make sure that the permutations created different values (i.e., at least one\n",
    "                // permutation should give this shingle a different id than the others.)\n",
    "                IntSummaryStatistics statistics = IntStream.of(expectedHashes).summaryStatistics();\n",
    "                Assertions.assertFalse(statistics.getMin() == statistics.getMax(),\n",
    "                        \"The shingle \" + j + \" has the same position in all permutations!\");\n",
    "            }\n",
    "            System.out.println(\"Test successfully completed.\");\n",
    "\n",
    "            // Compare two completely different documents and make sure, that they never get\n",
    "            // the same hash value\n",
    "            documentShingles.clear();\n",
    "            Set<Integer> documentShingles2 = new HashSet<>();\n",
    "            int[] hashes1, hashes2;\n",
    "            for (int j = 0; j < numberOfShingles; j++) {\n",
    "                if ((j & 1) > 0) {\n",
    "                    documentShingles.add(j);\n",
    "                } else {\n",
    "                    documentShingles2.add(j);\n",
    "                }\n",
    "            }\n",
    "            hashes1 = processor.minHash(documentShingles);\n",
    "            hashes2 = processor.minHash(documentShingles2);\n",
    "            for (int j = 0; j < hashes1.length; j++) {\n",
    "                Assertions.assertFalse(hashes1[j] == hashes2[j],\n",
    "                        \"The permutation \" + j + \" gives the same number to two completely different documents!\");\n",
    "            }\n",
    "            System.out.println(\"Test successfully completed.\");\n",
    "        }\n",
    "    } catch (AssertionFailedError e) {\n",
    "        throw e;\n",
    "    } catch (Throwable e) {\n",
    "        System.err.println(\"Your solution caused an unexpected error:\");\n",
    "        throw e;\n",
    "    }\n",
    "}\n",
    "\n",
    "// The tests are carried out two times with two different seeds\n",
    "long[] seeds = new long[] { 123l, -999l };\n",
    "int numberOfShingles = 100;\n",
    "int numberOfHashes = 25;\n",
    "checkMinHash(numberOfHashes, numberOfShingles, seeds);"
   ]
  },
  {
   "cell_type": "code",
   "execution_count": null,
   "metadata": {
    "deletable": false,
    "editable": false,
    "nbgrader": {
     "checksum": "98a0e441548d0f79fcde914ccf9eb3dc",
     "grade": true,
     "grade_id": "cell-autograde-1",
     "locked": true,
     "points": 2,
     "schema_version": 1,
     "solution": false
    }
   },
   "outputs": [],
   "source": [
    "// Ignore this cell"
   ]
  },
  {
   "cell_type": "code",
   "execution_count": null,
   "metadata": {
    "deletable": false,
    "editable": false,
    "nbgrader": {
     "checksum": "2280a65ff154fb7d12936e76235be051",
     "grade": true,
     "grade_id": "cell-autograde-2",
     "locked": true,
     "points": 3,
     "schema_version": 1,
     "solution": false
    }
   },
   "outputs": [],
   "source": [
    "// Ignore this cell"
   ]
  }
 ],
 "metadata": {
  "kernelspec": {
   "display_name": "Java",
   "language": "java",
   "name": "java"
  },
  "language_info": {
   "codemirror_mode": "java",
   "file_extension": ".java",
   "mimetype": "text/x-java-source",
   "name": "Java",
   "pygments_lexer": "java",
   "version": "11.0.1+13-LTS"
  }
 },
 "nbformat": 4,
 "nbformat_minor": 2
}
