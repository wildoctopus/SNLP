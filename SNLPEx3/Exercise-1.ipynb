{
 "cells": [
  {
   "cell_type": "markdown",
   "metadata": {
    "deletable": false,
    "editable": false,
    "nbgrader": {
     "checksum": "aedbf8c5c520f86846199983385e2936",
     "grade": false,
     "grade_id": "cell-markdown-task",
     "locked": true,
     "schema_version": 1,
     "solution": false
    }
   },
   "source": [
    "# Task 1 - Shingling\n",
    "(5 points)\n",
    "\n",
    "Finalize the implementation of the `ShinglingProcessor` class. \n",
    "* Its `apply` method implements the shingling from the lecture slides based on set semantics. It returns the ids of the shingles that have been found inside of the document.\n",
    "* Its constructor takes the length of ths shingles.\n",
    "* The `jaccardSim` method should return the jaccard similarity of the two given shingle sets.\n",
    "\n",
    "#### Example\n",
    "\n",
    "The document\n",
    "```\n",
    "google is good\n",
    "```\n",
    "has the following shingles with length 3\n",
    "```\n",
    "\"goo\", \"oog\", \"ogl\", \"gle\", \"le \", \"e i\", \" is\", \"is \", \"s g\", \" go\", \"ood\"\n",
    "```\n",
    "Since set semantics is used, the second occurence of `\"goo\"` is not added a second time to the list of shingles. If the shingles are simply assigned ids in the order in which they have been seen, the document would be represented by the following shingle ids (starting with 0):\n",
    "```\n",
    "    0,     1,     2,     3,     4,     5,     6,     7,     8,     9,   10\n",
    "```\n",
    "A second document\n",
    "```\n",
    "gooses google\n",
    "```\n",
    "would lead to the shingles\n",
    "```\n",
    "\"goo\", \"oos\", \"ose\", \"ses\", \"es \", \"s g\", \" go\", \"oog\", \"ogl\", \"gle\"\n",
    "```\n",
    "and the ids\n",
    "```\n",
    "    0,    11,    12,    13,    14,     8,     9,     1,     2,     3\n",
    "```\n",
    "\n",
    "Their intersections is $\\{0,1,2,3,7,8\\}$ while their union is \n",
    "$\\{0,1,2,3,4,5,6,7,8,9,10,11,12,13,14\\}$. Therefore, their Jaccard similarity\n",
    "is $6/15 = 0.4$\n",
    "\n",
    "#### Hints\n",
    "\n",
    "- As it can be seen in the example, the first three letter of a document form the first shingle of the document and the last three letters form the last shingle.\n",
    "- For the tests in **this notebook**, you can assume, that the input documents have already been preprocessed and contain only the following three character classes:\n",
    "  - lowercased alphabetic characters\n",
    "  - digits\n",
    "  - whitespaces\n",
    "\n",
    "#### Notes\n",
    "\n",
    "- Do not add additional external libraries.\n",
    "- Interface\n",
    "  - You can use _[TAB]_ for autocompletion and _[SHIFT]_+_[TAB]_ for code inspection.\n",
    "  - Use _Menu_ -> _View_ -> _Toggle Line Numbers_ for debugging.\n",
    "  - Check _Menu_ -> _Help_ -> _Keyboard Shortcuts_.\n",
    "- Finish\n",
    "  - Save your solution by clicking on the _disk icon_.\n",
    "  - Finally, choose _Menu_ -> _File_ -> _Close and Halt_.\n",
    "  - Do not forget to _Submit_ your solution in the _Assignments_ view."
   ]
  },
  {
   "cell_type": "code",
   "execution_count": 1,
   "metadata": {
    "deletable": false,
    "nbgrader": {
     "checksum": "d479da190f4d2cea41b25b830d362fa9",
     "grade": false,
     "grade_id": "cell-code",
     "locked": false,
     "schema_version": 1,
     "solution": true
    }
   },
   "outputs": [
    {
     "name": "stdout",
     "output_type": "stream",
     "text": [
      "compiled\n"
     ]
    }
   ],
   "source": [
    "\n",
    "/**\n",
    " * Class implementing the shingling of documents\n",
    " */\n",
    "public class ShinglingProcessor {\n",
    "    // YOUR CODE HERE\n",
    "    int k, count=0;\n",
    "    Map<String, Integer> wordShingles = new HashMap<String, Integer>();\n",
    "\n",
    "    public ShinglingProcessor(int shingleLength) {\n",
    "        // YOUR CODE HERE\n",
    "         if (shingleLength > 0) {\n",
    "            this.k = shingleLength;\n",
    "        }\n",
    "    }\n",
    "\n",
    "    public Set<Integer> applyShingling(String text) {\n",
    "        Set<Integer> shingles = null;\n",
    "        // YOUR CODE HERE\n",
    "        \n",
    "        shingles = new HashSet<Integer>();\n",
    "        //System.out.println(\"k is: \"+k);\n",
    "        //String key = text.substring(i, i + k);\n",
    "        \n",
    "        \n",
    "        for(int i=0; i<=text.length()-k; i++)\n",
    "        {\n",
    "            String key = text.substring(i, i + k);\n",
    "            \n",
    "                        \n",
    "            if(wordShingles.containsKey(key)){\n",
    "                \n",
    "                shingles.add(wordShingles.get(key));\n",
    "            \n",
    "            }\n",
    "            else{\n",
    "                wordShingles.put(key, count);\n",
    "                shingles.add(count);\n",
    "                count++;\n",
    "            }\n",
    "            \n",
    "        }\n",
    "        \n",
    "        return shingles;\n",
    "    }\n",
    "    \n",
    "    public static double jaccardSim(Set<Integer> set1, Set<Integer> set2) {\n",
    "        double similarity = 0;\n",
    "        // YOUR CODE HERE\n",
    "        \n",
    "        Set<Integer> union = new HashSet<Integer>(set1);\n",
    "        union.addAll(set2);\n",
    "        \n",
    "        if(set1.size()>set2.size()){\n",
    "            \n",
    "            Set<Integer> intersection = new HashSet<Integer>(set1);\n",
    "            intersection.retainAll(set2);\n",
    "           // System.out.println(\"Size of intersection: \"+intersection.size());\n",
    "           // System.out.println(\"Size of union: \"+union.size());\n",
    "            similarity = (double)intersection.size()/union.size();\n",
    "            \n",
    "        }\n",
    "        else{\n",
    "            \n",
    "            Set<Integer> intersection = new HashSet<Integer>(set2);\n",
    "            intersection.retainAll(set1);\n",
    "           // System.out.println(\"Size of intersection: \"+intersection.size());\n",
    "           // System.out.println(\"Size of union: \"+union.size());\n",
    "            similarity = (double)intersection.size()/union.size();\n",
    "            \n",
    "        }\n",
    "        \n",
    "        return similarity;\n",
    "    }\n",
    "}\n",
    "\n",
    "// This line should make sure that compile errors are directly identified when executing this cell\n",
    "// (the line itself does not produce any meaningful result)\n",
    "new ShinglingProcessor(0);\n",
    "System.out.println(\"compiled\");"
   ]
  },
  {
   "cell_type": "markdown",
   "metadata": {
    "deletable": false,
    "editable": false,
    "nbgrader": {
     "checksum": "4e9c819c081918a6fde3b4ba21898440",
     "grade": false,
     "grade_id": "cell-markdown-evaluation",
     "locked": true,
     "schema_version": 1,
     "solution": false
    }
   },
   "source": [
    "# Evaluation\n",
    "\n",
    "- Run the following cell to test your implementation.\n",
    "- You can ignore the cells afterwards."
   ]
  },
  {
   "cell_type": "code",
   "execution_count": 2,
   "metadata": {
    "deletable": false,
    "editable": false,
    "nbgrader": {
     "checksum": "b3e5fe8ead84809c6fe15f85002a8f19",
     "grade": true,
     "grade_id": "cell-autograde-visible",
     "locked": true,
     "points": 0,
     "schema_version": 1,
     "solution": false
    }
   },
   "outputs": [
    {
     "name": "stdout",
     "output_type": "stream",
     "text": [
      "Test successfully completed.\n",
      "Test successfully completed.\n",
      "Test successfully completed.\n",
      "Test successfully completed.\n"
     ]
    }
   ],
   "source": [
    "%maven org.junit.jupiter:junit-jupiter-api:5.3.1\n",
    "import org.junit.jupiter.api.Assertions;\n",
    "import org.opentest4j.AssertionFailedError;\n",
    "\n",
    "public static final double DELTA = 0.000001;\n",
    "\n",
    "public static void checkShingleSimilarity(ShinglingProcessor shingling, String text1, String text2,\n",
    "        double expectedSim) throws Exception {\n",
    "    try {\n",
    "        double similarity = ShinglingProcessor.jaccardSim(shingling.applyShingling(text1),\n",
    "                shingling.applyShingling(text2));\n",
    "        double diff = Math.abs(similarity - expectedSim);\n",
    "        Assertions.assertTrue(diff < DELTA, \"Your Jaccard similarity of the shingles of \\\"\" + text1 + \"\\\" and \\\"\"\n",
    "                + text2 + \"\\\" is \" + similarity + \" but the expected similarity was \" + expectedSim);\n",
    "        System.out.println(\"Test successfully completed.\");\n",
    "    } catch (AssertionFailedError e) {\n",
    "        throw e;\n",
    "    } catch (Throwable e) {\n",
    "        System.err.println(\"Your solution caused an unexpected error:\");\n",
    "        throw e;\n",
    "    }\n",
    "}\n",
    "\n",
    "// example text\n",
    "ShinglingProcessor processor = new ShinglingProcessor(3);\n",
    "checkShingleSimilarity(processor, \"google is good\", \"gooses google\", 0.4);\n",
    "checkShingleSimilarity(processor, \"abc\", \"cba\", 0.0);\n",
    "\n",
    "processor = new ShinglingProcessor(1);\n",
    "checkShingleSimilarity(processor, \"example\", \"elpmaxe\", 1.0);\n",
    "processor = new ShinglingProcessor(2);\n",
    "checkShingleSimilarity(processor, \"example\", \"elpmaxe\", 0.0);\n"
   ]
  },
  {
   "cell_type": "code",
   "execution_count": null,
   "metadata": {
    "deletable": false,
    "editable": false,
    "nbgrader": {
     "checksum": "f270bb2edc46d738da4de0040b4ba843",
     "grade": true,
     "grade_id": "cell-autograde-1",
     "locked": true,
     "points": 3,
     "schema_version": 1,
     "solution": false
    }
   },
   "outputs": [],
   "source": [
    "// Ignore this cell"
   ]
  },
  {
   "cell_type": "code",
   "execution_count": null,
   "metadata": {
    "deletable": false,
    "editable": false,
    "nbgrader": {
     "checksum": "6e569d37c49fae9e63d6bd0dd0b00559",
     "grade": true,
     "grade_id": "cell-autograde-2",
     "locked": true,
     "points": 2,
     "schema_version": 1,
     "solution": false
    }
   },
   "outputs": [],
   "source": [
    "// Ignore this cell"
   ]
  }
 ],
 "metadata": {
  "kernelspec": {
   "display_name": "Java",
   "language": "java",
   "name": "java"
  },
  "language_info": {
   "codemirror_mode": "java",
   "file_extension": ".java",
   "mimetype": "text/x-java-source",
   "name": "Java",
   "pygments_lexer": "java",
   "version": "11.0.1+13-LTS"
  }
 },
 "nbformat": 4,
 "nbformat_minor": 2
}
