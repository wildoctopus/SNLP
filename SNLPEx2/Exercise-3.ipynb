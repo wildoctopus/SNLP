{
 "cells": [
  {
   "cell_type": "markdown",
   "metadata": {
    "deletable": false,
    "editable": false,
    "nbgrader": {
     "checksum": "00a1b5d58d35a74e86dcb9a691468b7b",
     "grade": false,
     "grade_id": "cell-markdown-task",
     "locked": true,
     "schema_version": 1,
     "solution": false
    }
   },
   "source": [
    "# Exercise 3 - Levenshtein distance\n",
    "(3 points)\n",
    "\n",
    "Finish the `calcLevenshteinDistance` method by implementing the calculation of the Levenshtein distance of the two given Strings. Use dynamic programming as described in the lecture slides.\n",
    "\n",
    "#### Notes\n",
    "\n",
    "- Do not add additional external libraries.\n",
    "- Interface\n",
    "  - You can use _[TAB]_ for autocompletion and _[SHIFT]_+_[TAB]_ for code inspection.\n",
    "  - Use _Menu_ -> _View_ -> _Toggle Line Numbers_ for debugging.\n",
    "  - Check _Menu_ -> _Help_ -> _Keyboard Shortcuts_.\n",
    "- Finish\n",
    "  - Save your solution by clicking on the _disk icon_.\n",
    "  - Finally, choose _Menu_ -> _File_ -> _Close and Halt_.\n",
    "  - Do not forget to _Submit_ your solution in the _Assignments_ view."
   ]
  },
  {
   "cell_type": "code",
   "execution_count": 1,
   "metadata": {
    "deletable": false,
    "nbgrader": {
     "checksum": "fb935e38aa446e1bf181e371073e4d2f",
     "grade": false,
     "grade_id": "cell-code",
     "locked": false,
     "schema_version": 1,
     "solution": true
    }
   },
   "outputs": [],
   "source": [
    "public int calcLevenshteinDistance(String string1, String string2) {\n",
    "    int distance = 0;\n",
    "    // YOUR CODE HERE\n",
    "    \n",
    "    String s = string1, t = string2;\n",
    "    \n",
    "    if (s == null || t == null) {\n",
    "          throw new IllegalArgumentException(\"Strings must not be null\");\n",
    "      }\n",
    "    \n",
    "    int n = s.length(); // length of s\n",
    "      int m = t.length(); // length of t\n",
    "\n",
    "      if (n == 0) {\n",
    "          return m;\n",
    "      } else if (m == 0) {\n",
    "          return n;\n",
    "      }\n",
    "\n",
    "      if (n > m) {\n",
    "          // swap the input strings to consume less memory\n",
    "          String tmp = s;\n",
    "          s = t;\n",
    "          t = tmp;\n",
    "          n = m;\n",
    "          m = t.length();\n",
    "      }\n",
    "\n",
    "      int p[] = new int[n+1]; //'previous' cost array, horizontally\n",
    "      int d[] = new int[n+1]; // cost array, horizontally\n",
    "      int _d[]; //placeholder to assist in swapping p and d\n",
    "\n",
    "      // indexes into strings s and t\n",
    "      int i; // iterates through s\n",
    "      int j; // iterates through t\n",
    "\n",
    "      char t_j; // jth character of t\n",
    "\n",
    "      int cost; // cost\n",
    "\n",
    "      for (i = 0; i<=n; i++) {\n",
    "          p[i] = i;\n",
    "      }\n",
    "\n",
    "      for (j = 1; j<=m; j++) {\n",
    "          t_j = t.charAt(j-1);\n",
    "          d[0] = j;\n",
    "\n",
    "          for (i=1; i<=n; i++) {\n",
    "              cost = s.charAt(i-1)==t_j ? 0 : 1;\n",
    "              // minimum of cell to the left+1, to the top+1, diagonally left and up +cost\n",
    "              d[i] = Math.min(Math.min(d[i-1]+1, p[i]+1),  p[i-1]+cost);\n",
    "          }\n",
    "\n",
    "          // copy current distance counts to 'previous row' distance counts\n",
    "          _d = p;\n",
    "          p = d;\n",
    "          d = _d;\n",
    "      }\n",
    "\n",
    "      // our last action in the above loop was to switch d and p, so p now \n",
    "      // actually has the most recent cost counts\n",
    "      distance = p[n];\n",
    "    \n",
    "    return distance;\n",
    "}\n",
    "\n",
    "// This line should make sure that compile errors are directly identified when executing this cell\n",
    "// (the line itself does not produce any meaningful result)\n",
    "Arrays.sort(new int[calcLevenshteinDistance(\"a\",\"a\")]);"
   ]
  },
  {
   "cell_type": "markdown",
   "metadata": {
    "deletable": false,
    "editable": false,
    "nbgrader": {
     "checksum": "4e9c819c081918a6fde3b4ba21898440",
     "grade": false,
     "grade_id": "cell-markdown-evaluation",
     "locked": true,
     "schema_version": 1,
     "solution": false
    }
   },
   "source": [
    "# Evaluation\n",
    "\n",
    "- Run the following cell to test your implementation.\n",
    "- You can ignore the cells afterwards."
   ]
  },
  {
   "cell_type": "code",
   "execution_count": 2,
   "metadata": {
    "deletable": false,
    "editable": false,
    "nbgrader": {
     "checksum": "e652be5abb8cd5f11347ff5a4293fddc",
     "grade": true,
     "grade_id": "cell-autograde-visible",
     "locked": true,
     "points": 0,
     "schema_version": 1,
     "solution": false
    }
   },
   "outputs": [
    {
     "name": "stdout",
     "output_type": "stream",
     "text": [
      "Test successfully completed.\n",
      "Test successfully completed.\n",
      "Test successfully completed.\n",
      "Test successfully completed.\n",
      "Test successfully completed.\n",
      "Test successfully completed.\n",
      "Test successfully completed.\n",
      "Test successfully completed.\n"
     ]
    }
   ],
   "source": [
    "%maven org.junit.jupiter:junit-jupiter-api:5.3.1\n",
    "import org.junit.jupiter.api.Assertions;\n",
    "import org.opentest4j.AssertionFailedError;\n",
    "\n",
    "public void checkLevenshteinDistance(String s1, String s2, int expectedDistance) {\n",
    "    try {\n",
    "        int result = calcLevenshteinDistance(s1, s2);\n",
    "        Assertions.assertEquals(expectedDistance, result, \"For levenshtein(\\\"\" + s1 + \"\\\",\\\"\" + s2\n",
    "                + \"\\\") your solution returned \" + result + \" while \" + expectedDistance + \" has been expected.\");\n",
    "        System.out.println(\"Test successfully completed.\");\n",
    "    } catch (AssertionFailedError e) {\n",
    "        throw e;\n",
    "    } catch (Throwable e) {\n",
    "        System.err.println(\"Your solution caused an unexpected error:\");\n",
    "        throw e;\n",
    "    }\n",
    "}\n",
    "\n",
    "checkLevenshteinDistance(\"abababab\", \"aaaaaaaa\", 4);\n",
    "checkLevenshteinDistance(\"rupert\", \"Robert\", 3);\n",
    "checkLevenshteinDistance(\"Robert\", \"rupert\", 3);\n",
    "checkLevenshteinDistance(\"Robert\", \"Robert\", 0);\n",
    "checkLevenshteinDistance(\"abcde\", \"\", 5);\n",
    "checkLevenshteinDistance(\"\", \"abcde\", 5);\n",
    "\n",
    "\n",
    "String word1 = \"bqsvtzfhktnqovnjmkktluayihcfelhfqfsordvkxrmweenobehobnokrzabxcglfavxwyqlhjjlfxyx\"\n",
    "    + \"ddptklfuwvtvwgecpdskvovhrrlaoqzjqkpauhpkkrxtrwmrevimykuyvstfgsmeegqjvxcstegiiqgl\"\n",
    "    + \"auprgfuchymgvznavfpxnflxlujvtsshwhsnkunetfiwvqppaanugcovhnvwwedxywtkswmfeccatpna\"\n",
    "    + \"fzntnagkjpsinosekeahzmqtcpjkaxzmunclbcurppwumfnmxlrfgjxsddblhiorwiaqcjlbnbfkdjfr\"\n",
    "    + \"fqeqzrlfoiejfcmwdrcxneoquogbbuwdsykxvjpmfahmoybrqmneyrlutiunrbhfclzzhdtlxnwivoeg\"\n",
    "    + \"zfzxmargbkxkjnqiuqsgakhzgxkxtchewatusacyeodaankidwezlopjabyzaxpxzffxnqaredklqron\"\n",
    "    + \"slyzqgtfdjkaiwdcgalwvgpnlbxvuyqmhxsudcthfgziahugmjdhpqjucyvffviupnzmdtbatqbfewhy\"\n",
    "    + \"jyfsijxxuyoyonldvclzrdoujbaskietubkfoopbeucqrgxzvmkwcdmbuglfcnkizkefskvmqazbtyyn\"\n",
    "    + \"lrwptebsqvrtwtfukoesbjtgcxesvimzzdyoqvnclbedqhhgirhdyexourkwhzpjxjctdvqpiprfedsr\"\n",
    "    + \"xywdzncqihboggtekrknjbrlflrfegxjbvaqqjcodbzmvgefbateguibcajueuohwftimarzgjjygyng\"\n",
    "    + \"ayihcjnlnhidcooojummtbjuaddjsfyxqqpmphsuicxeeaizqrsrdomxhxwymjtfuigiijwowdoolbdv\"\n",
    "    + \"bvwtipnybxndkubuzskeycpjuuiutokzlibbprywcnovjrbrhmlsoyumyxuaswbkoopaxbndrjyocqle\"\n",
    "    + \"ishdwuuummzmtovjidjetgsfftrfmiqjckfphsvt\";\n",
    "String word2 = \"bqsvtzfhktnuosnjmkktluayihcfelhfqfsordvkxrmweenobelobnocrzabxcglnavxcyqlhjjlfxyx\"\n",
    "    + \"odptklfurvtvwiecpdrkvovhrrlnoizjqkpauhpkkrxtrwmrmvimykuyvstfgsmeenqjvxcstegiiqgl\"\n",
    "    + \"aufrgfuchymgvznavfpxnflxlujvtssxwhsnkuneqfiwvqpdaanugcnvhavwwedxywtkswmfeccatpna\"\n",
    "    + \"fzntnagkjpsinosekeahzmqtcpnkapzmunclbcurppwumfnmxmrfglxjddblhiorwiaqcjlbnbfkdjfw\"\n",
    "    + \"fqeqzrjfoiejkcmwdrcxneonuogbmtwdsfkxvjpkfahmrynrqgneyrfutiunrbhfclzzhdtlxpwinocg\"\n",
    "    + \"zfzxmargbkzkjnqiuqsgakfzgxkctbwewatusacyeodaankidwyzlopqabyzaxpxzffxnqaredkjqron\"\n",
    "    + \"slyzqgtfdokaiwdcgalwvtpnlbxvuyqmhxsudcthfgzidhugmjdhpqjucyvffviupnzbdnbatqbfewhy\"\n",
    "    + \"jyflcjxxuyoyonldvcpardoujbaskietubkfoopbeucqrgxzvmkwcdmbuglfqnkizkefhkvmqazbtkvn\"\n",
    "    + \"lrwptebsqvrtwtfukoesbjtgcxesvimzzdpoqvnclbedqhomcrhdyexouukwwzpfxjctdiqpiprfedsr\"\n",
    "    + \"xyodzncqijbogutekrknbbrlflrfegxjbvaqqjcodbzmvgefbateguiscajueuohjftimvrzgjjygymg\"\n",
    "    + \"zyihcjnlnzidcaoojulmtbjuaddjslyxqlpmxhsuibxeeaizqrkrdomxhxwymjtfuigiijwowdoolbdv\"\n",
    "    + \"svwtihnybxndkubhzskeycpjuuiutokzlibbprywcnovjrbrvllsogumyxuwswqkoouaxbnidjywcqle\"\n",
    "    + \"ishbwuuummzmtovjidjetgsfftrfmiqjckfphsvt\";\n",
    "checkLevenshteinDistance(word1, word2, 99);\n",
    "checkLevenshteinDistance(word2, word1, 99);"
   ]
  },
  {
   "cell_type": "code",
   "execution_count": null,
   "metadata": {
    "deletable": false,
    "editable": false,
    "nbgrader": {
     "checksum": "98a0e441548d0f79fcde914ccf9eb3dc",
     "grade": true,
     "grade_id": "cell-autograde-1",
     "locked": true,
     "points": 2,
     "schema_version": 1,
     "solution": false
    }
   },
   "outputs": [],
   "source": [
    "// Ignore this cell"
   ]
  },
  {
   "cell_type": "code",
   "execution_count": null,
   "metadata": {
    "deletable": false,
    "editable": false,
    "nbgrader": {
     "checksum": "524647178811e51573f60ce2158d7f95",
     "grade": true,
     "grade_id": "cell-autograde-2",
     "locked": true,
     "points": 1,
     "schema_version": 1,
     "solution": false
    }
   },
   "outputs": [],
   "source": [
    "// Ignore this cell"
   ]
  }
 ],
 "metadata": {
  "kernelspec": {
   "display_name": "Java",
   "language": "java",
   "name": "java"
  },
  "language_info": {
   "codemirror_mode": "java",
   "file_extension": ".java",
   "mimetype": "text/x-java-source",
   "name": "Java",
   "pygments_lexer": "java",
   "version": "11.0.1+13-LTS"
  }
 },
 "nbformat": 4,
 "nbformat_minor": 2
}
